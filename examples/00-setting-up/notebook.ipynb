{
 "cells": [
  {
   "cell_type": "markdown",
   "metadata": {},
   "source": [
    "# Let's get started!\n",
    "First you'll need some settings. You can change these later if you want.\n",
    "\n",
    "By running the code below, a file called `settings.json` will be created. It's in the .gitignore file, so it won't be tracked by git. You can change the settings in that file later if you want.\n",
    "\n",
    "In the code, you can change whether you want to use Azure OpenAI, or OpenAI. You need an API key, deployment name and API endpoint to get started. You'll also need an organisation if you're using OpenAI."
   ]
  },
  {
   "cell_type": "code",
   "execution_count": null,
   "metadata": {
    "dotnet_interactive": {
     "language": "csharp"
    },
    "polyglot_notebook": {
     "kernelName": "csharp"
    }
   },
   "outputs": [],
   "source": [
    "#!import ../config/Configuration.cs\n",
    "\n",
    "var settings = await Configuration.GetSettings(OpenAiProvider.Azure);\n",
    "\n",
    "Console.WriteLine(\"Settings loaded!\");\n"
   ]
  }
 ],
 "metadata": {
  "kernelspec": {
   "display_name": ".NET (C#)",
   "language": "C#",
   "name": ".net-csharp"
  },
  "language_info": {
   "name": "polyglot-notebook"
  },
  "polyglot_notebook": {
   "kernelInfo": {
    "defaultKernelName": "csharp",
    "items": [
     {
      "aliases": [],
      "name": "csharp"
     }
    ]
   }
  }
 },
 "nbformat": 4,
 "nbformat_minor": 2
}
