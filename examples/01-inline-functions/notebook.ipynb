{
 "cells": [
  {
   "cell_type": "markdown",
   "metadata": {},
   "source": [
    "Let's learn about Inline Functions. These Functions are expressed in code as a single line. They are useful when you want to write a function as a string, without any other configuration."
   ]
  },
  {
   "cell_type": "code",
   "execution_count": null,
   "metadata": {
    "dotnet_interactive": {
     "language": "csharp"
    },
    "polyglot_notebook": {
     "kernelName": "csharp"
    },
    "vscode": {
     "languageId": "polyglot-notebook"
    }
   },
   "outputs": [],
   "source": [
    "#!import ../config/Configuration.cs\n",
    "var settings = await Configuration.GetSettings(OpenAiProvider.Azure);\n",
    "Console.WriteLine(\"Settings loaded!\");\n"
   ]
  },
  {
   "cell_type": "markdown",
   "metadata": {},
   "source": [
    "The code below will set up the kernel and import the necessary libraries. It also sets up the Azure OpenAI or OpenAI connection."
   ]
  },
  {
   "cell_type": "code",
   "execution_count": null,
   "metadata": {
    "dotnet_interactive": {
     "language": "csharp"
    },
    "polyglot_notebook": {
     "kernelName": "csharp"
    },
    "vscode": {
     "languageId": "polyglot-notebook"
    }
   },
   "outputs": [],
   "source": [
    "#r \"nuget: Microsoft.SemanticKernel, 1.0.0-beta8\"\n",
    "\n",
    "using Microsoft.SemanticKernel;\n",
    "\n",
    "var kernelBuilder = new KernelBuilder();\n",
    "\n",
    "if (settings.OpenAiProvider == OpenAiProvider.Azure){\n",
    "\n",
    "    kernelBuilder.WithAzureOpenAIChatCompletionService(settings.Deployment, settings.Url, settings.ApiKey);\n",
    "}\n",
    "else\n",
    "{\n",
    "    kernelBuilder.WithOpenAIChatCompletionService(settings.Deployment, settings.ApiKey, settings.Organisation);\n",
    "}\n"
   ]
  },
  {
   "cell_type": "markdown",
   "metadata": {},
   "source": [
    "Now, let's build a kernel and create our first function."
   ]
  },
  {
   "cell_type": "code",
   "execution_count": null,
   "metadata": {
    "dotnet_interactive": {
     "language": "csharp"
    },
    "polyglot_notebook": {
     "kernelName": "csharp"
    },
    "vscode": {
     "languageId": "polyglot-notebook"
    }
   },
   "outputs": [],
   "source": [
    "using Microsoft.SemanticKernel.Orchestration;\n",
    "\n",
    "IKernel kernel = kernelBuilder.Build();\n"
   ]
  },
  {
   "cell_type": "code",
   "execution_count": null,
   "metadata": {
    "dotnet_interactive": {
     "language": "csharp"
    },
    "polyglot_notebook": {
     "kernelName": "csharp"
    },
    "vscode": {
     "languageId": "polyglot-notebook"
    }
   },
   "outputs": [],
   "source": [
    "string functionDefinition = \"Create a short joke about {{$input}}\";\n",
    "var summaryFunction = kernel.CreateSemanticFunction(functionDefinition);\n"
   ]
  },
  {
   "cell_type": "code",
   "execution_count": null,
   "metadata": {
    "dotnet_interactive": {
     "language": "csharp"
    },
    "polyglot_notebook": {
     "kernelName": "csharp"
    },
    "vscode": {
     "languageId": "polyglot-notebook"
    }
   },
   "outputs": [],
   "source": [
    "string topic = \"Creating Jupyter Notebooks with C#\";\n",
    "var summaryResult = await kernel.RunAsync(topic, summaryFunction);\n",
    "var joke = summaryResult.GetValue<string>();\n",
    "\n",
    "Console.WriteLine(summary);\n"
   ]
  }
 ],
 "metadata": {
  "language_info": {
   "name": "python"
  }
 },
 "nbformat": 4,
 "nbformat_minor": 2
}
