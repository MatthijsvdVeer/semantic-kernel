{
 "cells": [
  {
   "cell_type": "markdown",
   "metadata": {},
   "source": [
    "Let's learn about Inline Functions. These Functions are expressed in code as a single line. They are useful when you want to write a function as a string, without any other configuration."
   ]
  },
  {
   "cell_type": "code",
   "execution_count": null,
   "metadata": {
    "dotnet_interactive": {
     "language": "csharp"
    },
    "polyglot_notebook": {
     "kernelName": "csharp"
    },
    "vscode": {
     "languageId": "polyglot-notebook"
    }
   },
   "outputs": [],
   "source": [
    "#!import ../config/Configuration.cs\n",
    "var settings = await Configuration.GetSettings(OpenAiProvider.Azure);\n",
    "Console.WriteLine(\"Settings loaded!\");\n"
   ]
  },
  {
   "cell_type": "markdown",
   "metadata": {},
   "source": [
    "The code below will set up the kernel and import the necessary libraries. It also sets up the Azure OpenAI or OpenAI connection."
   ]
  },
  {
   "cell_type": "code",
   "execution_count": null,
   "metadata": {
    "dotnet_interactive": {
     "language": "csharp"
    },
    "polyglot_notebook": {
     "kernelName": "csharp"
    },
    "vscode": {
     "languageId": "polyglot-notebook"
    }
   },
   "outputs": [],
   "source": [
    "#r \"nuget: Microsoft.SemanticKernel, 1.0.0-beta8\"\n",
    "\n",
    "using Microsoft.SemanticKernel;\n",
    "\n",
    "var kernelBuilder = new KernelBuilder();\n",
    "\n",
    "if (settings.OpenAiProvider == OpenAiProvider.Azure){\n",
    "\n",
    "    kernelBuilder.WithAzureOpenAIChatCompletionService(settings.Deployment, settings.Url, settings.ApiKey);\n",
    "}\n",
    "else\n",
    "{\n",
    "    kernelBuilder.WithOpenAIChatCompletionService(settings.Deployment, settings.ApiKey, settings.Organisation);\n",
    "}\n"
   ]
  },
  {
   "cell_type": "markdown",
   "metadata": {},
   "source": [
    "Now, let's build a kernel and create our first function."
   ]
  },
  {
   "cell_type": "code",
   "execution_count": null,
   "metadata": {
    "dotnet_interactive": {
     "language": "csharp"
    },
    "polyglot_notebook": {
     "kernelName": "csharp"
    },
    "vscode": {
     "languageId": "polyglot-notebook"
    }
   },
   "outputs": [],
   "source": [
    "using Microsoft.SemanticKernel.Orchestration;\n",
    "\n",
    "IKernel kernel = kernelBuilder.Build();\n"
   ]
  },
  {
   "cell_type": "markdown",
   "metadata": {},
   "source": [
    "In the code below, we will create our first inline function. An inline function is just a string. But to use it, we will need to create a Semantic Function from it, using the Kernel."
   ]
  },
  {
   "cell_type": "code",
   "execution_count": null,
   "metadata": {
    "dotnet_interactive": {
     "language": "csharp"
    },
    "polyglot_notebook": {
     "kernelName": "csharp"
    },
    "vscode": {
     "languageId": "polyglot-notebook"
    }
   },
   "outputs": [],
   "source": [
    "string functionDefinition = \"Create a short joke about {{$input}}\";\n",
    "var jokeFunction = kernel.CreateSemanticFunction(functionDefinition);\n"
   ]
  },
  {
   "cell_type": "markdown",
   "metadata": {},
   "source": [
    "Now that we have a function of type `ISKFunction`, we can offer it to the kernel to run. Try running it multiple times to see different result!\n"
   ]
  },
  {
   "cell_type": "code",
   "execution_count": null,
   "metadata": {
    "dotnet_interactive": {
     "language": "csharp"
    },
    "polyglot_notebook": {
     "kernelName": "csharp"
    },
    "vscode": {
     "languageId": "polyglot-notebook"
    }
   },
   "outputs": [],
   "source": [
    "string topic = \"Creating Jupyter Notebooks with C#\";\n",
    "var result = await kernel.RunAsync(topic, jokeFunction);\n",
    "var joke = result.GetValue<string>();\n",
    "\n",
    "Console.WriteLine(joke);\n"
   ]
  },
  {
   "cell_type": "markdown",
   "metadata": {},
   "source": [
    "We get different results because LLMs are not deterministtic, on top of that, we are sending some parameters to the model to make it more or less creative. These are currently default values, but we can add them ourselves as well. The parameter that we're interested in is Temperature. The temperature adds some randomness (AKA chaos, AKA human behaviour) to the text generation. The higher the temperature, the more likely the LLM is to choose less common tokens. Let's create a new function."
   ]
  },
  {
   "cell_type": "code",
   "execution_count": null,
   "metadata": {
    "dotnet_interactive": {
     "language": "csharp"
    },
    "polyglot_notebook": {
     "kernelName": "csharp"
    },
    "vscode": {
     "languageId": "polyglot-notebook"
    }
   },
   "outputs": [],
   "source": [
    "using Microsoft.SemanticKernel.Connectors.AI.OpenAI;\n",
    "\n",
    "string translationFunctionDefinition = \"Translate {{$input}} to Dutch\";\n",
    "\n",
    "var settings = new OpenAIRequestSettings{\n",
    "    MaxTokens = 1000,\n",
    "    Temperature = 0.0,\n",
    "    TopP = 1,\n",
    "    FrequencyPenalty = 0.5,\n",
    "    PresencePenalty = 0.5\n",
    "};\n",
    "\n",
    "\n",
    "var translationFunction = kernel.CreateSemanticFunction(translationFunctionDefinition, settings);\n"
   ]
  },
  {
   "cell_type": "markdown",
   "metadata": {},
   "source": [
    "We set the Temperature to 0. When you run the function below multiple times, the output should be mostly the same. "
   ]
  },
  {
   "cell_type": "code",
   "execution_count": null,
   "metadata": {
    "dotnet_interactive": {
     "language": "csharp"
    },
    "polyglot_notebook": {
     "kernelName": "csharp"
    },
    "vscode": {
     "languageId": "polyglot-notebook"
    }
   },
   "outputs": [],
   "source": [
    "string topic = \"Creating Jupyter Notebooks with C#\";\n",
    "var result = await kernel.RunAsync(topic, translationFunction);\n",
    "var translation = result.GetValue<string>();\n",
    "\n",
    "Console.WriteLine(translation);\n"
   ]
  },
  {
   "cell_type": "markdown",
   "metadata": {},
   "source": [
    "Try increasing the temperature and see what happens. You should see more variation in the output! When you're done, look at the code example below. When you create an inline function, you only supply the template and some settings. However, in later steps we will be offering our functions to the LLM to pick from. When we do so, we need to add a description and name to this function. It's good practice to always do so. This is how you do it:"
   ]
  },
  {
   "cell_type": "code",
   "execution_count": 32,
   "metadata": {
    "dotnet_interactive": {
     "language": "csharp"
    },
    "polyglot_notebook": {
     "kernelName": "csharp"
    },
    "vscode": {
     "languageId": "polyglot-notebook"
    }
   },
   "outputs": [],
   "source": [
    "string spanishFunctionDefinition = \"Translate {{$input}} to Spanish\";\n",
    "\n",
    "var settings = new OpenAIRequestSettings{\n",
    "    MaxTokens = 1000,\n",
    "    Temperature = 0.0,\n",
    "    TopP = 1,\n",
    "    FrequencyPenalty = 0.5,\n",
    "    PresencePenalty = 0.5\n",
    "};\n",
    "\n",
    "\n",
    "var translationFunction = kernel.CreateSemanticFunction(translationFunctionDefinition, settings, functionName: \"SpanishTranslation\", description: \"Translates input to Spanish\");\n"
   ]
  }
 ],
 "metadata": {
  "language_info": {
   "name": "python"
  }
 },
 "nbformat": 4,
 "nbformat_minor": 2
}
